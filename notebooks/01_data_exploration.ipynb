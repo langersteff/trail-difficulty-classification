{
 "cells": [
  {
   "cell_type": "markdown",
   "metadata": {},
   "source": [
    "## Data exploration"
   ]
  },
  {
   "cell_type": "code",
   "execution_count": 33,
   "metadata": {},
   "outputs": [
    {
     "name": "stdout",
     "output_type": "stream",
     "text": [
      "The autoreload extension is already loaded. To reload it, use:\n",
      "  %reload_ext autoreload\n",
      "The autotime extension is already loaded. To reload it, use:\n",
      "  %reload_ext autotime\n",
      "time: 3.62 ms\n"
     ]
    }
   ],
   "source": [
    "%load_ext autoreload\n",
    "%autoreload 2\n",
    "%load_ext autotime\n",
    "\n",
    "# add src to sys-path\n",
    "import sys\n",
    "import os\n",
    "import numpy as np\n",
    "import pandas as pd\n",
    "import matplotlib.pyplot as plt\n",
    "sys.path.append('../src')\n",
    "\n",
    "from data_processing.mtb_data_provider import MtbDataProvider\n",
    "\n",
    "RAW_FILE = 'mspuebung'\n",
    "FREQUENCY = 80"
   ]
  },
  {
   "cell_type": "markdown",
   "metadata": {},
   "source": [
    "### Read data"
   ]
  },
  {
   "cell_type": "code",
   "execution_count": 34,
   "metadata": {},
   "outputs": [
    {
     "data": {
      "text/html": [
       "<div>\n",
       "<style scoped>\n",
       "    .dataframe tbody tr th:only-of-type {\n",
       "        vertical-align: middle;\n",
       "    }\n",
       "\n",
       "    .dataframe tbody tr th {\n",
       "        vertical-align: top;\n",
       "    }\n",
       "\n",
       "    .dataframe thead th {\n",
       "        text-align: right;\n",
       "    }\n",
       "</style>\n",
       "<table border=\"1\" class=\"dataframe\">\n",
       "  <thead>\n",
       "    <tr style=\"text-align: right;\">\n",
       "      <th></th>\n",
       "      <th>epoch (ms)</th>\n",
       "      <th>time (01:00)</th>\n",
       "      <th>elapsed (s)</th>\n",
       "      <th>x-axis (g)</th>\n",
       "      <th>y-axis (g)</th>\n",
       "      <th>z-axis (g)</th>\n",
       "    </tr>\n",
       "  </thead>\n",
       "  <tbody>\n",
       "    <tr>\n",
       "      <th>0</th>\n",
       "      <td>1557745132645</td>\n",
       "      <td>2019-05-13T12:58:52.645</td>\n",
       "      <td>0.00</td>\n",
       "      <td>0.886</td>\n",
       "      <td>0.103</td>\n",
       "      <td>-0.114</td>\n",
       "    </tr>\n",
       "    <tr>\n",
       "      <th>1</th>\n",
       "      <td>1557745132725</td>\n",
       "      <td>2019-05-13T12:58:52.725</td>\n",
       "      <td>0.08</td>\n",
       "      <td>0.893</td>\n",
       "      <td>0.104</td>\n",
       "      <td>-0.113</td>\n",
       "    </tr>\n",
       "    <tr>\n",
       "      <th>2</th>\n",
       "      <td>1557745132805</td>\n",
       "      <td>2019-05-13T12:58:52.805</td>\n",
       "      <td>0.16</td>\n",
       "      <td>0.891</td>\n",
       "      <td>0.102</td>\n",
       "      <td>-0.112</td>\n",
       "    </tr>\n",
       "    <tr>\n",
       "      <th>3</th>\n",
       "      <td>1557745132885</td>\n",
       "      <td>2019-05-13T12:58:52.885</td>\n",
       "      <td>0.24</td>\n",
       "      <td>0.893</td>\n",
       "      <td>0.104</td>\n",
       "      <td>-0.111</td>\n",
       "    </tr>\n",
       "    <tr>\n",
       "      <th>4</th>\n",
       "      <td>1557745132965</td>\n",
       "      <td>2019-05-13T12:58:52.965</td>\n",
       "      <td>0.32</td>\n",
       "      <td>0.894</td>\n",
       "      <td>0.099</td>\n",
       "      <td>-0.108</td>\n",
       "    </tr>\n",
       "  </tbody>\n",
       "</table>\n",
       "</div>"
      ],
      "text/plain": [
       "      epoch (ms)             time (01:00)  elapsed (s)  x-axis (g)  \\\n",
       "0  1557745132645  2019-05-13T12:58:52.645         0.00       0.886   \n",
       "1  1557745132725  2019-05-13T12:58:52.725         0.08       0.893   \n",
       "2  1557745132805  2019-05-13T12:58:52.805         0.16       0.891   \n",
       "3  1557745132885  2019-05-13T12:58:52.885         0.24       0.893   \n",
       "4  1557745132965  2019-05-13T12:58:52.965         0.32       0.894   \n",
       "\n",
       "   y-axis (g)  z-axis (g)  \n",
       "0       0.103      -0.114  \n",
       "1       0.104      -0.113  \n",
       "2       0.102      -0.112  \n",
       "3       0.104      -0.111  \n",
       "4       0.099      -0.108  "
      ]
     },
     "execution_count": 34,
     "metadata": {},
     "output_type": "execute_result"
    },
    {
     "name": "stdout",
     "output_type": "stream",
     "text": [
      "time: 22.3 ms\n"
     ]
    }
   ],
   "source": [
    "acc_data = pd.read_csv('../data/raw/' + RAW_FILE + '.csv')\n",
    "acc_data.head()"
   ]
  },
  {
   "cell_type": "code",
   "execution_count": 35,
   "metadata": {},
   "outputs": [
    {
     "data": {
      "text/html": [
       "<div>\n",
       "<style scoped>\n",
       "    .dataframe tbody tr th:only-of-type {\n",
       "        vertical-align: middle;\n",
       "    }\n",
       "\n",
       "    .dataframe tbody tr th {\n",
       "        vertical-align: top;\n",
       "    }\n",
       "\n",
       "    .dataframe thead th {\n",
       "        text-align: right;\n",
       "    }\n",
       "</style>\n",
       "<table border=\"1\" class=\"dataframe\">\n",
       "  <thead>\n",
       "    <tr style=\"text-align: right;\">\n",
       "      <th></th>\n",
       "      <th>start</th>\n",
       "      <th>end</th>\n",
       "      <th>difficulty</th>\n",
       "    </tr>\n",
       "  </thead>\n",
       "  <tbody>\n",
       "    <tr>\n",
       "      <th>0</th>\n",
       "      <td>0</td>\n",
       "      <td>136</td>\n",
       "      <td>2</td>\n",
       "    </tr>\n",
       "    <tr>\n",
       "      <th>1</th>\n",
       "      <td>137</td>\n",
       "      <td>240</td>\n",
       "      <td>0</td>\n",
       "    </tr>\n",
       "    <tr>\n",
       "      <th>2</th>\n",
       "      <td>241</td>\n",
       "      <td>270</td>\n",
       "      <td>1</td>\n",
       "    </tr>\n",
       "    <tr>\n",
       "      <th>3</th>\n",
       "      <td>272</td>\n",
       "      <td>640</td>\n",
       "      <td>0</td>\n",
       "    </tr>\n",
       "  </tbody>\n",
       "</table>\n",
       "</div>"
      ],
      "text/plain": [
       "   start  end  difficulty\n",
       "0      0  136           2\n",
       "1    137  240           0\n",
       "2    241  270           1\n",
       "3    272  640           0"
      ]
     },
     "execution_count": 35,
     "metadata": {},
     "output_type": "execute_result"
    },
    {
     "name": "stdout",
     "output_type": "stream",
     "text": [
      "time: 6.94 ms\n"
     ]
    }
   ],
   "source": [
    "acc_data_labels = pd.read_csv('../data/raw/' + RAW_FILE + '_labels.csv')\n",
    "acc_data_labels.head()"
   ]
  },
  {
   "cell_type": "code",
   "execution_count": 36,
   "metadata": {},
   "outputs": [
    {
     "name": "stdout",
     "output_type": "stream",
     "text": [
      "(8166, 6)\n"
     ]
    },
    {
     "data": {
      "image/png": "[encoded data removed]",
      "text/plain": [
       "<Figure size 432x288 with 1 Axes>"
      ]
     },
     "metadata": {
      "needs_background": "light"
     },
     "output_type": "display_data"
    },
    {
     "name": "stdout",
     "output_type": "stream",
     "text": [
      "time: 182 ms\n"
     ]
    }
   ],
   "source": [
    "plt.plot(acc_data[\"x-axis (g)\"])\n",
    "plt.plot(acc_data[\"y-axis (g)\"])\n",
    "plt.plot(acc_data[\"z-axis (g)\"])\n",
    "\n",
    "print(acc_data.shape)\n",
    "\n",
    "for index, label_row in acc_data_labels.iterrows():\n",
    "    difficulty = label_row[\"difficulty\"]\n",
    "    \n",
    "    if (difficulty == 0):\n",
    "        color = 'blue'\n",
    "    elif (difficulty == 1):\n",
    "        color = 'red'\n",
    "    elif (difficulty == 2):\n",
    "        color = 'black'\n",
    "    \n",
    "    plt.axvspan((label_row[\"start\"] * 1000)/80, (label_row[\"end\"] * 1000)/80, color=color, alpha=0.2)\n",
    "\n",
    "plt.show()"
   ]
  },
  {
   "cell_type": "markdown",
   "metadata": {},
   "source": [
    "### Prepare data"
   ]
  },
  {
   "cell_type": "code",
   "execution_count": 41,
   "metadata": {},
   "outputs": [
    {
     "name": "stdout",
     "output_type": "stream",
     "text": [
      "(8166, 5) (4, 3)\n",
      "time: 22.8 ms\n"
     ]
    }
   ],
   "source": [
    "acc_data, acc_labels = MtbDataProvider.load_data('../data/raw/' + RAW_FILE + '.csv', frequency=FREQUENCY)\n",
    "print(acc_data.shape, acc_labels.shape)"
   ]
  },
  {
   "cell_type": "code",
   "execution_count": 42,
   "metadata": {},
   "outputs": [
    {
     "name": "stdout",
     "output_type": "stream",
     "text": [
      "(681, 25, 3) (681,)\n",
      "time: 6.17 ms\n"
     ]
    }
   ],
   "source": [
    "X_train, y_train = MtbDataProvider.slice_data(acc_data, acc_labels, window_size=2000, frequency=80)\n",
    "print(X_train.shape, y_train.shape)"
   ]
  },
  {
   "cell_type": "code",
   "execution_count": 76,
   "metadata": {},
   "outputs": [
    {
     "name": "stdout",
     "output_type": "stream",
     "text": [
      "time: 1.79 ms\n"
     ]
    }
   ],
   "source": [
    "from scipy.signal import butter, lfilter\n",
    "def butter_bandpass(lowcut, highcut, fs, order=5):\n",
    "    nyq = 0.5 * fs\n",
    "    low = lowcut / nyq\n",
    "    high = highcut / nyq\n",
    "    b, a = butter(order, [low, high], btype='band')\n",
    "    return b, a\n",
    "\n",
    "\n",
    "def butter_bandpass_filter(data, lowcut, highcut, fs, order=5):\n",
    "    b, a = butter_bandpass(lowcut, highcut, fs, order=order)\n",
    "    y = lfilter(b, a, data)\n",
    "    return y\n"
   ]
  },
  {
   "cell_type": "code",
   "execution_count": 122,
   "metadata": {},
   "outputs": [
    {
     "name": "stdout",
     "output_type": "stream",
     "text": [
      "time: 5.5 ms\n"
     ]
    }
   ],
   "source": [
    "fs = 8000.0\n",
    "lowcut = 550.0\n",
    "highcut = 600.0\n",
    "y = butter_bandpass_filter(X_train, lowcut, highcut, fs, order=6)"
   ]
  },
  {
   "cell_type": "code",
   "execution_count": 123,
   "metadata": {},
   "outputs": [
    {
     "data": {
      "image/png": "[encoded data removed]",
      "text/plain": [
       "<Figure size 432x288 with 1 Axes>"
      ]
     },
     "metadata": {
      "needs_background": "light"
     },
     "output_type": "display_data"
    },
    {
     "name": "stdout",
     "output_type": "stream",
     "text": [
      "time: 135 ms\n"
     ]
    }
   ],
   "source": [
    "plt.plot(y[:, -1])\n",
    "plt.show()"
   ]
  },
  {
   "cell_type": "code",
   "execution_count": 93,
   "metadata": {},
   "outputs": [
    {
     "data": {
      "image/png": "[encoded data removed]",
      "text/plain": [
       "<Figure size 432x288 with 1 Axes>"
      ]
     },
     "metadata": {
      "needs_background": "light"
     },
     "output_type": "display_data"
    },
    {
     "name": "stdout",
     "output_type": "stream",
     "text": [
      "time: 137 ms\n"
     ]
    }
   ],
   "source": [
    "plt.plot(X_train[:, -1])\n",
    "plt.show()"
   ]
  },
  {
   "cell_type": "code",
   "execution_count": null,
   "metadata": {},
   "outputs": [],
   "source": []
  }
 ],
 "metadata": {
  "kernelspec": {
   "display_name": "Python 3",
   "language": "python",
   "name": "python3"
  },
  "language_info": {
   "codemirror_mode": {
    "name": "ipython",
    "version": 3
   },
   "file_extension": ".py",
   "mimetype": "text/x-python",
   "name": "python",
   "nbconvert_exporter": "python",
   "pygments_lexer": "ipython3",
   "version": "3.7.3"
  }
 },
 "nbformat": 4,
 "nbformat_minor": 2
}
