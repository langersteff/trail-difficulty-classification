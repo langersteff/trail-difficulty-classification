{
 "cells": [
  {
   "cell_type": "markdown",
   "metadata": {},
   "source": [
    "## Conv2D"
   ]
  },
  {
   "cell_type": "code",
   "execution_count": 51,
   "metadata": {},
   "outputs": [],
   "source": [
    "import autoreload\n",
    "%reload_ext autoreload\n",
    "%autoreload 2"
   ]
  },
  {
   "cell_type": "code",
   "execution_count": 52,
   "metadata": {},
   "outputs": [],
   "source": [
    "from tensorflow.python.client import device_lib\n",
    "#print(device_lib.list_local_devices())"
   ]
  },
  {
   "cell_type": "code",
   "execution_count": 53,
   "metadata": {},
   "outputs": [],
   "source": [
    "import sys\n",
    "import os\n",
    "import numpy as np\n",
    "import pandas as pd\n",
    "from sklearn.metrics import confusion_matrix\n",
    "import matplotlib.pyplot as plt\n",
    "sys.path.append('../src')\n",
    "\n",
    "import tensorflow as tf\n",
    "from data_processing.mtb_data_provider import MtbDataProvider\n",
    "from visualization.visualize import MtbVisualizer\n",
    "from models.conv1d_model import Conv1dModel\n",
    "from models.conv2d_model import Conv2dModel\n",
    "from tensorflow.keras.callbacks import ModelCheckpoint"
   ]
  },
  {
   "cell_type": "code",
   "execution_count": 54,
   "metadata": {},
   "outputs": [
    {
     "name": "stdout",
     "output_type": "stream",
     "text": [
      "SAMPLE_SIZE = 150\n"
     ]
    }
   ],
   "source": [
    "WINDOW_SIZE = 6000 # in milliseconds\n",
    "KERNEL_LENGTH = 10 #in sample data points\n",
    "KERNEL_HEIGHT = 2\n",
    "FREQUENCY = 40 # in milliseconds\n",
    "SAMPLE_SIZE = WINDOW_SIZE // FREQUENCY\n",
    "print(\"SAMPLE_SIZE =\", SAMPLE_SIZE)\n",
    "\n",
    "RANDOM_SEED = 42\n",
    "np.random.seed(RANDOM_SEED)\n",
    "tf.set_random_seed(RANDOM_SEED)"
   ]
  },
  {
   "cell_type": "markdown",
   "metadata": {},
   "source": [
    "### Prepare data"
   ]
  },
  {
   "cell_type": "code",
   "execution_count": 55,
   "metadata": {},
   "outputs": [],
   "source": [
    "RAW_FILES = ['neureuth'] # Multiple Sessions ['neureuth', 'anothersession']\n",
    "VAL_FILE = 'neureuth'"
   ]
  },
  {
   "cell_type": "code",
   "execution_count": 56,
   "metadata": {},
   "outputs": [
    {
     "name": "stdout",
     "output_type": "stream",
     "text": [
      "reading  ../data/raw/neureuth_acc_2.csv\n",
      "reading  ../data/raw/neureuth_acc_1.csv\n",
      "reading  ../data/raw/neureuth_gyr_2.csv\n",
      "reading  ../data/raw/neureuth_gyr_1.csv\n"
     ]
    },
    {
     "data": {
      "text/plain": [
       "(965, 150, 4, 3)"
      ]
     },
     "execution_count": 56,
     "metadata": {},
     "output_type": "execute_result"
    }
   ],
   "source": [
    "X_train = None\n",
    "y_train = None\n",
    "for raw_file in RAW_FILES:\n",
    "    X, y = MtbDataProvider.load_data('../data/raw/' + raw_file, '*?[0-9].csv', frequency=FREQUENCY)\n",
    "    X = MtbDataProvider.sync_sensors(X)\n",
    "    X, y = MtbDataProvider.slice_sensors(X, y, window_size=WINDOW_SIZE, frequency=FREQUENCY, step_size=.25)\n",
    "    \n",
    "    if X_train is None:\n",
    "        X_train = X\n",
    "        y_train = y\n",
    "    else:\n",
    "        X_train = np.concatenate((X_train, X))\n",
    "        y_train = np.concatenate((y_train, y))\n",
    "\n",
    "X_train.shape #(slices_count, slice_length, sensors_count, sensor_dimensions)"
   ]
  },
  {
   "cell_type": "code",
   "execution_count": 57,
   "metadata": {},
   "outputs": [
    {
     "name": "stdout",
     "output_type": "stream",
     "text": [
      "(772, 150, 4, 3) (772,)\n",
      "(193, 150, 4, 3) (193,)\n"
     ]
    }
   ],
   "source": [
    "# IF THERE IS NO VALIDATION SESSION (yet), split 80/20\n",
    "# Do not run this multiple times in a row, because it overwrites X_train and therefore will get smaller and smaller\n",
    "\n",
    "from sklearn.model_selection import train_test_split\n",
    "X_train, X_dev, y_train, y_dev = train_test_split(X_train, y_train, test_size=.2, random_state=RANDOM_SEED, shuffle=True)\n",
    "print(X_train.shape, y_train.shape)\n",
    "print(X_dev.shape, y_dev.shape)"
   ]
  },
  {
   "cell_type": "markdown",
   "metadata": {},
   "source": [
    "## PCA"
   ]
  },
  {
   "cell_type": "code",
   "execution_count": 58,
   "metadata": {},
   "outputs": [],
   "source": [
    "from sklearn.decomposition import PCA"
   ]
  },
  {
   "cell_type": "code",
   "execution_count": 59,
   "metadata": {},
   "outputs": [
    {
     "data": {
      "text/plain": [
       "(772, 1800)"
      ]
     },
     "execution_count": 59,
     "metadata": {},
     "output_type": "execute_result"
    }
   ],
   "source": [
    "X_dev = X_dev.reshape((X_dev.shape[0],X_dev.shape[1]*X_dev.shape[2]*X_dev.shape[3]))\n",
    "X_train = X_train.reshape((X_train.shape[0],X_train.shape[1]*X_train.shape[2]*X_train.shape[3]))\n",
    "X_train.shape"
   ]
  },
  {
   "cell_type": "code",
   "execution_count": 60,
   "metadata": {},
   "outputs": [],
   "source": [
    "pca = PCA(n_components=2)\n",
    "X_train = pca.fit_transform(X_train) \n",
    "X_dev = pca.fit_transform(X_dev) \n"
   ]
  },
  {
   "cell_type": "markdown",
   "metadata": {},
   "source": [
    "## K-Means"
   ]
  },
  {
   "cell_type": "code",
   "execution_count": 61,
   "metadata": {},
   "outputs": [],
   "source": [
    "from sklearn.cluster import KMeans\n",
    "kmeans = KMeans(n_clusters=4, random_state=RANDOM_SEED).fit(X_train)\n",
    "y_pred_dev = kmeans.predict(X_dev)\n",
    "y_pred_train = kmeans.predict(X_train)"
   ]
  },
  {
   "cell_type": "code",
   "execution_count": 62,
   "metadata": {},
   "outputs": [
    {
     "data": {
      "image/png": "[encoded data removed]",
      "text/plain": [
       "<Figure size 432x288 with 2 Axes>"
      ]
     },
     "metadata": {
      "needs_background": "light"
     },
     "output_type": "display_data"
    }
   ],
   "source": [
    "MtbVisualizer.print_confusion_matrix(y_dev, y_pred_dev, labels=[0,1,2,3])"
   ]
  },
  {
   "cell_type": "code",
   "execution_count": 63,
   "metadata": {},
   "outputs": [
    {
     "data": {
      "image/png": "[encoded data removed]",
      "text/plain": [
       "<Figure size 432x288 with 2 Axes>"
      ]
     },
     "metadata": {
      "needs_background": "light"
     },
     "output_type": "display_data"
    }
   ],
   "source": [
    "MtbVisualizer.print_confusion_matrix(y_train, y_pred_train, labels=[0,1,2,3])"
   ]
  },
  {
   "cell_type": "code",
   "execution_count": null,
   "metadata": {},
   "outputs": [],
   "source": []
  }
 ],
 "metadata": {
  "kernelspec": {
   "display_name": "Python 2",
   "language": "python",
   "name": "python2"
  },
  "language_info": {
   "codemirror_mode": {
    "name": "ipython",
    "version": 3
   },
   "file_extension": ".py",
   "mimetype": "text/x-python",
   "name": "python",
   "nbconvert_exporter": "python",
   "pygments_lexer": "ipython3",
   "version": "3.7.3"
  }
 },
 "nbformat": 4,
 "nbformat_minor": 2
}
